{
  "nbformat": 4,
  "nbformat_minor": 0,
  "metadata": {
    "colab": {
      "name": "a1.ipynb",
      "provenance": [],
      "collapsed_sections": [],
      "authorship_tag": "ABX9TyNKCQ11JI2r+2TKpMUO1gLA",
      "include_colab_link": true
    },
    "kernelspec": {
      "name": "python3",
      "display_name": "Python 3"
    },
    "language_info": {
      "name": "python"
    }
  },
  "cells": [
    {
      "cell_type": "markdown",
      "metadata": {
        "id": "view-in-github",
        "colab_type": "text"
      },
      "source": [
        "<a href=\"https://colab.research.google.com/github/phj515/Python_report/blob/main/a1.ipynb\" target=\"_parent\"><img src=\"https://colab.research.google.com/assets/colab-badge.svg\" alt=\"Open In Colab\"/></a>"
      ]
    },
    {
      "cell_type": "code",
      "execution_count": 1,
      "metadata": {
        "colab": {
          "base_uri": "https://localhost:8080/"
        },
        "id": "_sEtClKlp9KW",
        "outputId": "5e1e1796-6a2a-431d-95ae-98d75a41f724"
      },
      "outputs": [
        {
          "output_type": "stream",
          "name": "stdout",
          "text": [
            "3개의 정수값을 입력하시오\n",
            "n1의 정수값을 입력: 20\n",
            "n2의 정수값을 입력: 230\n",
            "n3의 정수값을 입력: 50\n",
            "100.0\n"
          ]
        }
      ],
      "source": [
        " print(\"3개의 정수값을 입력하시오\")\n",
        " n1=int(input(\"n1의 정수값을 입력: \"))\n",
        " n2=int(input(\"n2의 정수값을 입력: \"))\n",
        " n3=int(input(\"n3의 정수값을 입력: \"))\n",
        "\n",
        " total=n1+n2+n3;\n",
        " average=total/3; \n",
        " print(average)\n",
        "\n"
      ]
    },
    {
      "cell_type": "code",
      "source": [
        "import math\n",
        "#from math import sqrt\n",
        "print(\"'a,b,c' 3개의 값을 입력하시오\")\n",
        "a=int(input(\"Enter the a: \"))\n",
        "b=int(input(\"Enter the b: \"))\n",
        "c=int(input(\"Enter the c: \"))\n",
        "\n",
        "d=math.sqrt(b*b)-(4*a*c);\n",
        "#d=sqrt(b*b)-(4*a*c);\n",
        "x1=(-b+d)/(2*a);\n",
        "x2=(-b+d)/(2*a);\n",
        "print(x1,x2)\n"
      ],
      "metadata": {
        "id": "ribe8WJMsUre"
      },
      "execution_count": null,
      "outputs": []
    },
    {
      "cell_type": "code",
      "source": [
        "import math\n",
        "\n",
        "a=int(input(\"a의 값을 입력하세요: \"))\n",
        "b=int(input(\"b의 값을 입력하세요: \"))\n",
        "c=int(input(\"c의 값을 입력하세요: \"))\n",
        "\n",
        "x1=((-b+(math.sqrt(math.pow(b,2)-4*a*c)))/2*a)\n",
        "x2=((-b-(math.sqrt(math.pow(b,2)-4*a*c)))/2*a)\n",
        "\n",
        "print(\"x1=\",x1)\n",
        "print(\"x2=\",x2)"
      ],
      "metadata": {
        "id": "po_PrdtGuIfs"
      },
      "execution_count": null,
      "outputs": []
    },
    {
      "cell_type": "code",
      "source": [
        "total=0\n",
        "counter=1\n",
        "while counter<=10:\n",
        "  grade=int(input(\"Ente grade; \"))\n",
        "  total=grade+total\n",
        "  counter=counter+1\n",
        "average=total/10\n",
        "print(average)\n"
      ],
      "metadata": {
        "id": "NLK_M9sMvQ17"
      },
      "execution_count": null,
      "outputs": []
    }
  ]
}